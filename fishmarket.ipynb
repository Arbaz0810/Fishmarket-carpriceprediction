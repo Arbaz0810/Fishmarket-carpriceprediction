{
  "nbformat": 4,
  "nbformat_minor": 0,
  "metadata": {
    "colab": {
      "name": "fishmarket",
      "provenance": [],
      "collapsed_sections": []
    },
    "kernelspec": {
      "name": "python3",
      "display_name": "Python 3"
    },
    "language_info": {
      "name": "python"
    }
  },
  "cells": [
    {
      "cell_type": "code",
      "metadata": {
        "colab": {
          "base_uri": "https://localhost:8080/"
        },
        "id": "mXU9AADq8gj6",
        "outputId": "c3ad9840-be90-41bc-aa29-3d694bc27020"
      },
      "source": [
        "from google.colab import drive\n",
        "drive.mount('/content/drive')"
      ],
      "execution_count": null,
      "outputs": [
        {
          "output_type": "stream",
          "text": [
            "Drive already mounted at /content/drive; to attempt to forcibly remount, call drive.mount(\"/content/drive\", force_remount=True).\n"
          ],
          "name": "stdout"
        }
      ]
    },
    {
      "cell_type": "code",
      "metadata": {
        "colab": {
          "base_uri": "https://localhost:8080/"
        },
        "id": "Clz7hNjt98h5",
        "outputId": "9702ffe0-0b5c-4f54-8464-84b81bdaeaef"
      },
      "source": [
        "import pandas as pd\n",
        "\n",
        "path ='/content/drive/MyDrive/Fish.csv'\n",
        "df = pd.read_csv(path)\n",
        "\n",
        "df.describe"
      ],
      "execution_count": null,
      "outputs": [
        {
          "output_type": "execute_result",
          "data": {
            "text/plain": [
              "<bound method NDFrame.describe of     Species  Weight  Length1  Length2  Length3   Height   Width\n",
              "0     Bream   242.0     23.2     25.4     30.0  11.5200  4.0200\n",
              "1     Bream   290.0     24.0     26.3     31.2  12.4800  4.3056\n",
              "2     Bream   340.0     23.9     26.5     31.1  12.3778  4.6961\n",
              "3     Bream   363.0     26.3     29.0     33.5  12.7300  4.4555\n",
              "4     Bream   430.0     26.5     29.0     34.0  12.4440  5.1340\n",
              "..      ...     ...      ...      ...      ...      ...     ...\n",
              "154   Smelt    12.2     11.5     12.2     13.4   2.0904  1.3936\n",
              "155   Smelt    13.4     11.7     12.4     13.5   2.4300  1.2690\n",
              "156   Smelt    12.2     12.1     13.0     13.8   2.2770  1.2558\n",
              "157   Smelt    19.7     13.2     14.3     15.2   2.8728  2.0672\n",
              "158   Smelt    19.9     13.8     15.0     16.2   2.9322  1.8792\n",
              "\n",
              "[159 rows x 7 columns]>"
            ]
          },
          "metadata": {},
          "execution_count": 13
        }
      ]
    },
    {
      "cell_type": "code",
      "metadata": {
        "colab": {
          "base_uri": "https://localhost:8080/",
          "height": 359
        },
        "id": "OxziWs24-icx",
        "outputId": "bb9c9d39-6f17-4b1f-a049-2b8965f9407c"
      },
      "source": [
        "data = pd.read_csv(\"//content/drive/MyDrive/Fish.csv\")\n",
        "data.head(10)"
      ],
      "execution_count": null,
      "outputs": [
        {
          "output_type": "execute_result",
          "data": {
            "text/html": [
              "<div>\n",
              "<style scoped>\n",
              "    .dataframe tbody tr th:only-of-type {\n",
              "        vertical-align: middle;\n",
              "    }\n",
              "\n",
              "    .dataframe tbody tr th {\n",
              "        vertical-align: top;\n",
              "    }\n",
              "\n",
              "    .dataframe thead th {\n",
              "        text-align: right;\n",
              "    }\n",
              "</style>\n",
              "<table border=\"1\" class=\"dataframe\">\n",
              "  <thead>\n",
              "    <tr style=\"text-align: right;\">\n",
              "      <th></th>\n",
              "      <th>Species</th>\n",
              "      <th>Weight</th>\n",
              "      <th>Length1</th>\n",
              "      <th>Length2</th>\n",
              "      <th>Length3</th>\n",
              "      <th>Height</th>\n",
              "      <th>Width</th>\n",
              "    </tr>\n",
              "  </thead>\n",
              "  <tbody>\n",
              "    <tr>\n",
              "      <th>0</th>\n",
              "      <td>Bream</td>\n",
              "      <td>242.0</td>\n",
              "      <td>23.2</td>\n",
              "      <td>25.4</td>\n",
              "      <td>30.0</td>\n",
              "      <td>11.5200</td>\n",
              "      <td>4.0200</td>\n",
              "    </tr>\n",
              "    <tr>\n",
              "      <th>1</th>\n",
              "      <td>Bream</td>\n",
              "      <td>290.0</td>\n",
              "      <td>24.0</td>\n",
              "      <td>26.3</td>\n",
              "      <td>31.2</td>\n",
              "      <td>12.4800</td>\n",
              "      <td>4.3056</td>\n",
              "    </tr>\n",
              "    <tr>\n",
              "      <th>2</th>\n",
              "      <td>Bream</td>\n",
              "      <td>340.0</td>\n",
              "      <td>23.9</td>\n",
              "      <td>26.5</td>\n",
              "      <td>31.1</td>\n",
              "      <td>12.3778</td>\n",
              "      <td>4.6961</td>\n",
              "    </tr>\n",
              "    <tr>\n",
              "      <th>3</th>\n",
              "      <td>Bream</td>\n",
              "      <td>363.0</td>\n",
              "      <td>26.3</td>\n",
              "      <td>29.0</td>\n",
              "      <td>33.5</td>\n",
              "      <td>12.7300</td>\n",
              "      <td>4.4555</td>\n",
              "    </tr>\n",
              "    <tr>\n",
              "      <th>4</th>\n",
              "      <td>Bream</td>\n",
              "      <td>430.0</td>\n",
              "      <td>26.5</td>\n",
              "      <td>29.0</td>\n",
              "      <td>34.0</td>\n",
              "      <td>12.4440</td>\n",
              "      <td>5.1340</td>\n",
              "    </tr>\n",
              "    <tr>\n",
              "      <th>5</th>\n",
              "      <td>Bream</td>\n",
              "      <td>450.0</td>\n",
              "      <td>26.8</td>\n",
              "      <td>29.7</td>\n",
              "      <td>34.7</td>\n",
              "      <td>13.6024</td>\n",
              "      <td>4.9274</td>\n",
              "    </tr>\n",
              "    <tr>\n",
              "      <th>6</th>\n",
              "      <td>Bream</td>\n",
              "      <td>500.0</td>\n",
              "      <td>26.8</td>\n",
              "      <td>29.7</td>\n",
              "      <td>34.5</td>\n",
              "      <td>14.1795</td>\n",
              "      <td>5.2785</td>\n",
              "    </tr>\n",
              "    <tr>\n",
              "      <th>7</th>\n",
              "      <td>Bream</td>\n",
              "      <td>390.0</td>\n",
              "      <td>27.6</td>\n",
              "      <td>30.0</td>\n",
              "      <td>35.0</td>\n",
              "      <td>12.6700</td>\n",
              "      <td>4.6900</td>\n",
              "    </tr>\n",
              "    <tr>\n",
              "      <th>8</th>\n",
              "      <td>Bream</td>\n",
              "      <td>450.0</td>\n",
              "      <td>27.6</td>\n",
              "      <td>30.0</td>\n",
              "      <td>35.1</td>\n",
              "      <td>14.0049</td>\n",
              "      <td>4.8438</td>\n",
              "    </tr>\n",
              "    <tr>\n",
              "      <th>9</th>\n",
              "      <td>Bream</td>\n",
              "      <td>500.0</td>\n",
              "      <td>28.5</td>\n",
              "      <td>30.7</td>\n",
              "      <td>36.2</td>\n",
              "      <td>14.2266</td>\n",
              "      <td>4.9594</td>\n",
              "    </tr>\n",
              "  </tbody>\n",
              "</table>\n",
              "</div>"
            ],
            "text/plain": [
              "  Species  Weight  Length1  Length2  Length3   Height   Width\n",
              "0   Bream   242.0     23.2     25.4     30.0  11.5200  4.0200\n",
              "1   Bream   290.0     24.0     26.3     31.2  12.4800  4.3056\n",
              "2   Bream   340.0     23.9     26.5     31.1  12.3778  4.6961\n",
              "3   Bream   363.0     26.3     29.0     33.5  12.7300  4.4555\n",
              "4   Bream   430.0     26.5     29.0     34.0  12.4440  5.1340\n",
              "5   Bream   450.0     26.8     29.7     34.7  13.6024  4.9274\n",
              "6   Bream   500.0     26.8     29.7     34.5  14.1795  5.2785\n",
              "7   Bream   390.0     27.6     30.0     35.0  12.6700  4.6900\n",
              "8   Bream   450.0     27.6     30.0     35.1  14.0049  4.8438\n",
              "9   Bream   500.0     28.5     30.7     36.2  14.2266  4.9594"
            ]
          },
          "metadata": {},
          "execution_count": 14
        }
      ]
    },
    {
      "cell_type": "code",
      "metadata": {
        "colab": {
          "base_uri": "https://localhost:8080/"
        },
        "id": "j6G53FYc_Su0",
        "outputId": "51866443-4322-4b63-dcb2-f509849a2477"
      },
      "source": [
        "data.isnull().sum(axis = 0)\n",
        "data.shape"
      ],
      "execution_count": null,
      "outputs": [
        {
          "output_type": "execute_result",
          "data": {
            "text/plain": [
              "(159, 7)"
            ]
          },
          "metadata": {},
          "execution_count": 15
        }
      ]
    },
    {
      "cell_type": "code",
      "metadata": {
        "colab": {
          "base_uri": "https://localhost:8080/",
          "height": 265
        },
        "id": "WiIs3bpl_if9",
        "outputId": "aa85b011-9b91-4e8d-b794-edae3cbd99ad"
      },
      "source": [
        "plt.scatter(data['Length1'],data['Weight'])\n",
        "plt.show()\n",
        "#not-linear"
      ],
      "execution_count": null,
      "outputs": [
        {
          "output_type": "display_data",
          "data": {
            "image/png": "[encoded data removed]",
            "text/plain": [
              "<Figure size 432x288 with 1 Axes>"
            ]
          },
          "metadata": {
            "needs_background": "light"
          }
        }
      ]
    },
    {
      "cell_type": "code",
      "metadata": {
        "colab": {
          "base_uri": "https://localhost:8080/",
          "height": 296
        },
        "id": "b_esIR5LBO_N",
        "outputId": "088ef44f-688e-4560-f02d-2b846df0ad72"
      },
      "source": [
        "sns.histplot(data['Length1'], bins=20)"
      ],
      "execution_count": null,
      "outputs": [
        {
          "output_type": "execute_result",
          "data": {
            "text/plain": [
              "<matplotlib.axes._subplots.AxesSubplot at 0x7f2a330f1950>"
            ]
          },
          "metadata": {},
          "execution_count": 18
        },
        {
          "output_type": "display_data",
          "data": {
            "image/png": "[encoded data removed]",
            "text/plain": [
              "<Figure size 432x288 with 1 Axes>"
            ]
          },
          "metadata": {
            "needs_background": "light"
          }
        }
      ]
    },
    {
      "cell_type": "code",
      "metadata": {
        "colab": {
          "base_uri": "https://localhost:8080/",
          "height": 265
        },
        "id": "KAXXRagGBUuX",
        "outputId": "813a3085-91dd-41ba-d686-0ac7da07ea5a"
      },
      "source": [
        "plt.scatter(data['Length2'],data['Weight'])\n",
        "plt.show()\n",
        "#not-linear"
      ],
      "execution_count": null,
      "outputs": [
        {
          "output_type": "display_data",
          "data": {
            "image/png": "[encoded data removed]",
            "text/plain": [
              "<Figure size 432x288 with 1 Axes>"
            ]
          },
          "metadata": {
            "needs_background": "light"
          }
        }
      ]
    },
    {
      "cell_type": "code",
      "metadata": {
        "colab": {
          "base_uri": "https://localhost:8080/",
          "height": 265
        },
        "id": "gKIRPVTVB0AB",
        "outputId": "65cf8008-f3c1-485c-b8c5-ee763ee86b97"
      },
      "source": [
        "plt.scatter(data['Length3'],data['Weight'])\n",
        "plt.show()"
      ],
      "execution_count": null,
      "outputs": [
        {
          "output_type": "display_data",
          "data": {
            "image/png": "[encoded data removed]",
            "text/plain": [
              "<Figure size 432x288 with 1 Axes>"
            ]
          },
          "metadata": {
            "needs_background": "light"
          }
        }
      ]
    },
    {
      "cell_type": "code",
      "metadata": {
        "colab": {
          "base_uri": "https://localhost:8080/",
          "height": 296
        },
        "id": "86rtfNh8B8PX",
        "outputId": "c77a01d3-c13c-4a4c-eef3-eb125aceffe2"
      },
      "source": [
        "sns.histplot(data['Length3'], bins=20)"
      ],
      "execution_count": null,
      "outputs": [
        {
          "output_type": "execute_result",
          "data": {
            "text/plain": [
              "<matplotlib.axes._subplots.AxesSubplot at 0x7f2a31839550>"
            ]
          },
          "metadata": {},
          "execution_count": 21
        },
        {
          "output_type": "display_data",
          "data": {
            "image/png": "[encoded data removed]",
            "text/plain": [
              "<Figure size 432x288 with 1 Axes>"
            ]
          },
          "metadata": {
            "needs_background": "light"
          }
        }
      ]
    },
    {
      "cell_type": "code",
      "metadata": {
        "colab": {
          "base_uri": "https://localhost:8080/",
          "height": 265
        },
        "id": "l0PcNi8nCBNs",
        "outputId": "21c52a8e-68b1-4606-b7ce-ab1f29e8375a"
      },
      "source": [
        "plt.scatter(data['Height'],data['Weight'])\n",
        "plt.show()"
      ],
      "execution_count": null,
      "outputs": [
        {
          "output_type": "display_data",
          "data": {
            "image/png": "[encoded data removed]",
            "text/plain": [
              "<Figure size 432x288 with 1 Axes>"
            ]
          },
          "metadata": {
            "needs_background": "light"
          }
        }
      ]
    },
    {
      "cell_type": "code",
      "metadata": {
        "colab": {
          "base_uri": "https://localhost:8080/",
          "height": 296
        },
        "id": "QtYTRWA2CGeY",
        "outputId": "e21e4353-0938-4c72-cf5a-09147a08a92f"
      },
      "source": [
        "sns.histplot(data['Height'], bins=20)"
      ],
      "execution_count": null,
      "outputs": [
        {
          "output_type": "execute_result",
          "data": {
            "text/plain": [
              "<matplotlib.axes._subplots.AxesSubplot at 0x7f2a3169a990>"
            ]
          },
          "metadata": {},
          "execution_count": 23
        },
        {
          "output_type": "display_data",
          "data": {
            "image/png": "[encoded data removed]",
            "text/plain": [
              "<Figure size 432x288 with 1 Axes>"
            ]
          },
          "metadata": {
            "needs_background": "light"
          }
        }
      ]
    },
    {
      "cell_type": "code",
      "metadata": {
        "colab": {
          "base_uri": "https://localhost:8080/",
          "height": 265
        },
        "id": "V8ra6noxCNPW",
        "outputId": "d56d1e9e-e37d-4bb1-b3f0-65f4371fe335"
      },
      "source": [
        "plt.scatter(data['Width'],data['Weight'])\n",
        "plt.show()"
      ],
      "execution_count": null,
      "outputs": [
        {
          "output_type": "display_data",
          "data": {
            "image/png": "[encoded data removed]",
            "text/plain": [
              "<Figure size 432x288 with 1 Axes>"
            ]
          },
          "metadata": {
            "needs_background": "light"
          }
        }
      ]
    },
    {
      "cell_type": "code",
      "metadata": {
        "colab": {
          "base_uri": "https://localhost:8080/",
          "height": 265
        },
        "id": "OzlDthcSCRUk",
        "outputId": "ff552660-8d3d-414d-f9ce-47eae8331c03"
      },
      "source": [
        "data['WidthSquared']=data['Width']**2\n",
        "plt.scatter(data['WidthSquared'],data['Weight'])\n",
        "plt.show()"
      ],
      "execution_count": null,
      "outputs": [
        {
          "output_type": "display_data",
          "data": {
            "image/png": "[encoded data removed]",
            "text/plain": [
              "<Figure size 432x288 with 1 Axes>"
            ]
          },
          "metadata": {
            "needs_background": "light"
          }
        }
      ]
    },
    {
      "cell_type": "code",
      "metadata": {
        "colab": {
          "base_uri": "https://localhost:8080/",
          "height": 265
        },
        "id": "OS8WrzDpCVjz",
        "outputId": "93701c63-b263-4cb9-f887-42ea285d0d48"
      },
      "source": [
        "data['Length1Squared']=data['Length1']**2\n",
        "plt.scatter(data['Length1Squared'],data['Weight'])\n",
        "plt.show()"
      ],
      "execution_count": null,
      "outputs": [
        {
          "output_type": "display_data",
          "data": {
            "image/png": "[encoded data removed]",
            "text/plain": [
              "<Figure size 432x288 with 1 Axes>"
            ]
          },
          "metadata": {
            "needs_background": "light"
          }
        }
      ]
    },
    {
      "cell_type": "code",
      "metadata": {
        "colab": {
          "base_uri": "https://localhost:8080/",
          "height": 265
        },
        "id": "Rnirae8GCZyD",
        "outputId": "73cb2afb-acb9-46af-bd96-ad2532390cf8"
      },
      "source": [
        "data['Length2Squared']=data['Length2']**2\n",
        "plt.scatter(data['Length2Squared'],data['Weight'])\n",
        "plt.show()"
      ],
      "execution_count": null,
      "outputs": [
        {
          "output_type": "display_data",
          "data": {
            "image/png": "[encoded data removed]",
            "text/plain": [
              "<Figure size 432x288 with 1 Axes>"
            ]
          },
          "metadata": {
            "needs_background": "light"
          }
        }
      ]
    },
    {
      "cell_type": "code",
      "metadata": {
        "colab": {
          "base_uri": "https://localhost:8080/",
          "height": 265
        },
        "id": "SSVmNBSzCfPH",
        "outputId": "d49ceb2f-c79f-4a57-ea83-b5d7f471f482"
      },
      "source": [
        "data['Length3Squared']=data['Length3']**2\n",
        "plt.scatter(data['Length3Squared'],data['Weight'])\n",
        "plt.show()"
      ],
      "execution_count": null,
      "outputs": [
        {
          "output_type": "display_data",
          "data": {
            "image/png": "[encoded data removed]",
            "text/plain": [
              "<Figure size 432x288 with 1 Axes>"
            ]
          },
          "metadata": {
            "needs_background": "light"
          }
        }
      ]
    },
    {
      "cell_type": "code",
      "metadata": {
        "colab": {
          "base_uri": "https://localhost:8080/",
          "height": 265
        },
        "id": "fk0TCY7xClWN",
        "outputId": "e5304fac-cf6d-4f24-dc40-619ed6526ca2"
      },
      "source": [
        "data['HeightSquared']=data['Height']**2\n",
        "plt.scatter(data['HeightSquared'],data['Weight'])\n",
        "plt.show()\n",
        "#showsHeteroscedasticity"
      ],
      "execution_count": null,
      "outputs": [
        {
          "output_type": "display_data",
          "data": {
            "image/png": "[encoded data removed]",
            "text/plain": [
              "<Figure size 432x288 with 1 Axes>"
            ]
          },
          "metadata": {
            "needs_background": "light"
          }
        }
      ]
    },
    {
      "cell_type": "code",
      "metadata": {
        "colab": {
          "base_uri": "https://localhost:8080/",
          "height": 410
        },
        "id": "iGeYBfJ1CqTv",
        "outputId": "0fc0d449-44af-48a1-cbda-ac7a61718dba"
      },
      "source": [
        "data.corr()\n",
        "#remove Length1 & Length2 i.e Highly Correlated"
      ],
      "execution_count": null,
      "outputs": [
        {
          "output_type": "execute_result",
          "data": {
            "text/html": [
              "<div>\n",
              "<style scoped>\n",
              "    .dataframe tbody tr th:only-of-type {\n",
              "        vertical-align: middle;\n",
              "    }\n",
              "\n",
              "    .dataframe tbody tr th {\n",
              "        vertical-align: top;\n",
              "    }\n",
              "\n",
              "    .dataframe thead th {\n",
              "        text-align: right;\n",
              "    }\n",
              "</style>\n",
              "<table border=\"1\" class=\"dataframe\">\n",
              "  <thead>\n",
              "    <tr style=\"text-align: right;\">\n",
              "      <th></th>\n",
              "      <th>Weight</th>\n",
              "      <th>Length1</th>\n",
              "      <th>Length2</th>\n",
              "      <th>Length3</th>\n",
              "      <th>Height</th>\n",
              "      <th>Width</th>\n",
              "      <th>WidthSquared</th>\n",
              "      <th>Length1Squared</th>\n",
              "      <th>Length2Squared</th>\n",
              "      <th>Length3Squared</th>\n",
              "      <th>HeightSquared</th>\n",
              "    </tr>\n",
              "  </thead>\n",
              "  <tbody>\n",
              "    <tr>\n",
              "      <th>Weight</th>\n",
              "      <td>1.000000</td>\n",
              "      <td>0.915712</td>\n",
              "      <td>0.918618</td>\n",
              "      <td>0.923044</td>\n",
              "      <td>0.724345</td>\n",
              "      <td>0.886507</td>\n",
              "      <td>0.909665</td>\n",
              "      <td>0.911555</td>\n",
              "      <td>0.918270</td>\n",
              "      <td>0.933048</td>\n",
              "      <td>0.679762</td>\n",
              "    </tr>\n",
              "    <tr>\n",
              "      <th>Length1</th>\n",
              "      <td>0.915712</td>\n",
              "      <td>1.000000</td>\n",
              "      <td>0.999517</td>\n",
              "      <td>0.992031</td>\n",
              "      <td>0.625378</td>\n",
              "      <td>0.867050</td>\n",
              "      <td>0.835214</td>\n",
              "      <td>0.971355</td>\n",
              "      <td>0.973357</td>\n",
              "      <td>0.975102</td>\n",
              "      <td>0.533104</td>\n",
              "    </tr>\n",
              "    <tr>\n",
              "      <th>Length2</th>\n",
              "      <td>0.918618</td>\n",
              "      <td>0.999517</td>\n",
              "      <td>1.000000</td>\n",
              "      <td>0.994103</td>\n",
              "      <td>0.640441</td>\n",
              "      <td>0.873547</td>\n",
              "      <td>0.839335</td>\n",
              "      <td>0.968249</td>\n",
              "      <td>0.971139</td>\n",
              "      <td>0.974802</td>\n",
              "      <td>0.548747</td>\n",
              "    </tr>\n",
              "    <tr>\n",
              "      <th>Length3</th>\n",
              "      <td>0.923044</td>\n",
              "      <td>0.992031</td>\n",
              "      <td>0.994103</td>\n",
              "      <td>1.000000</td>\n",
              "      <td>0.703409</td>\n",
              "      <td>0.878520</td>\n",
              "      <td>0.837635</td>\n",
              "      <td>0.952120</td>\n",
              "      <td>0.956824</td>\n",
              "      <td>0.972963</td>\n",
              "      <td>0.618901</td>\n",
              "    </tr>\n",
              "    <tr>\n",
              "      <th>Height</th>\n",
              "      <td>0.724345</td>\n",
              "      <td>0.625378</td>\n",
              "      <td>0.640441</td>\n",
              "      <td>0.703409</td>\n",
              "      <td>1.000000</td>\n",
              "      <td>0.792881</td>\n",
              "      <td>0.739312</td>\n",
              "      <td>0.503302</td>\n",
              "      <td>0.521330</td>\n",
              "      <td>0.598269</td>\n",
              "      <td>0.972436</td>\n",
              "    </tr>\n",
              "    <tr>\n",
              "      <th>Width</th>\n",
              "      <td>0.886507</td>\n",
              "      <td>0.867050</td>\n",
              "      <td>0.873547</td>\n",
              "      <td>0.878520</td>\n",
              "      <td>0.792881</td>\n",
              "      <td>1.000000</td>\n",
              "      <td>0.974896</td>\n",
              "      <td>0.770849</td>\n",
              "      <td>0.779722</td>\n",
              "      <td>0.795875</td>\n",
              "      <td>0.695692</td>\n",
              "    </tr>\n",
              "    <tr>\n",
              "      <th>WidthSquared</th>\n",
              "      <td>0.909665</td>\n",
              "      <td>0.835214</td>\n",
              "      <td>0.839335</td>\n",
              "      <td>0.837635</td>\n",
              "      <td>0.739312</td>\n",
              "      <td>0.974896</td>\n",
              "      <td>1.000000</td>\n",
              "      <td>0.769632</td>\n",
              "      <td>0.777181</td>\n",
              "      <td>0.785761</td>\n",
              "      <td>0.668612</td>\n",
              "    </tr>\n",
              "    <tr>\n",
              "      <th>Length1Squared</th>\n",
              "      <td>0.911555</td>\n",
              "      <td>0.971355</td>\n",
              "      <td>0.968249</td>\n",
              "      <td>0.952120</td>\n",
              "      <td>0.503302</td>\n",
              "      <td>0.770849</td>\n",
              "      <td>0.769632</td>\n",
              "      <td>1.000000</td>\n",
              "      <td>0.999546</td>\n",
              "      <td>0.990504</td>\n",
              "      <td>0.429222</td>\n",
              "    </tr>\n",
              "    <tr>\n",
              "      <th>Length2Squared</th>\n",
              "      <td>0.918270</td>\n",
              "      <td>0.973357</td>\n",
              "      <td>0.971139</td>\n",
              "      <td>0.956824</td>\n",
              "      <td>0.521330</td>\n",
              "      <td>0.779722</td>\n",
              "      <td>0.777181</td>\n",
              "      <td>0.999546</td>\n",
              "      <td>1.000000</td>\n",
              "      <td>0.993149</td>\n",
              "      <td>0.448793</td>\n",
              "    </tr>\n",
              "    <tr>\n",
              "      <th>Length3Squared</th>\n",
              "      <td>0.933048</td>\n",
              "      <td>0.975102</td>\n",
              "      <td>0.974802</td>\n",
              "      <td>0.972963</td>\n",
              "      <td>0.598269</td>\n",
              "      <td>0.795875</td>\n",
              "      <td>0.785761</td>\n",
              "      <td>0.990504</td>\n",
              "      <td>0.993149</td>\n",
              "      <td>1.000000</td>\n",
              "      <td>0.534552</td>\n",
              "    </tr>\n",
              "    <tr>\n",
              "      <th>HeightSquared</th>\n",
              "      <td>0.679762</td>\n",
              "      <td>0.533104</td>\n",
              "      <td>0.548747</td>\n",
              "      <td>0.618901</td>\n",
              "      <td>0.972436</td>\n",
              "      <td>0.695692</td>\n",
              "      <td>0.668612</td>\n",
              "      <td>0.429222</td>\n",
              "      <td>0.448793</td>\n",
              "      <td>0.534552</td>\n",
              "      <td>1.000000</td>\n",
              "    </tr>\n",
              "  </tbody>\n",
              "</table>\n",
              "</div>"
            ],
            "text/plain": [
              "                  Weight   Length1  ...  Length3Squared  HeightSquared\n",
              "Weight          1.000000  0.915712  ...        0.933048       0.679762\n",
              "Length1         0.915712  1.000000  ...        0.975102       0.533104\n",
              "Length2         0.918618  0.999517  ...        0.974802       0.548747\n",
              "Length3         0.923044  0.992031  ...        0.972963       0.618901\n",
              "Height          0.724345  0.625378  ...        0.598269       0.972436\n",
              "Width           0.886507  0.867050  ...        0.795875       0.695692\n",
              "WidthSquared    0.909665  0.835214  ...        0.785761       0.668612\n",
              "Length1Squared  0.911555  0.971355  ...        0.990504       0.429222\n",
              "Length2Squared  0.918270  0.973357  ...        0.993149       0.448793\n",
              "Length3Squared  0.933048  0.975102  ...        1.000000       0.534552\n",
              "HeightSquared   0.679762  0.533104  ...        0.534552       1.000000\n",
              "\n",
              "[11 rows x 11 columns]"
            ]
          },
          "metadata": {},
          "execution_count": 30
        }
      ]
    },
    {
      "cell_type": "code",
      "metadata": {
        "colab": {
          "base_uri": "https://localhost:8080/",
          "height": 224
        },
        "id": "aA1lttVWCvH6",
        "outputId": "18bab5e4-2388-432f-9f80-ee2ca7f484c1"
      },
      "source": [
        "data=pd.concat([data,pd.get_dummies(data[\"Species\"],drop_first=True)],1)\n",
        "data=data.drop(['Length1','Length2','Length1Squared','Length2Squared','Species'],axis=1)\n",
        "data.head()"
      ],
      "execution_count": null,
      "outputs": [
        {
          "output_type": "execute_result",
          "data": {
            "text/html": [
              "<div>\n",
              "<style scoped>\n",
              "    .dataframe tbody tr th:only-of-type {\n",
              "        vertical-align: middle;\n",
              "    }\n",
              "\n",
              "    .dataframe tbody tr th {\n",
              "        vertical-align: top;\n",
              "    }\n",
              "\n",
              "    .dataframe thead th {\n",
              "        text-align: right;\n",
              "    }\n",
              "</style>\n",
              "<table border=\"1\" class=\"dataframe\">\n",
              "  <thead>\n",
              "    <tr style=\"text-align: right;\">\n",
              "      <th></th>\n",
              "      <th>Weight</th>\n",
              "      <th>Length3</th>\n",
              "      <th>Height</th>\n",
              "      <th>Width</th>\n",
              "      <th>WidthSquared</th>\n",
              "      <th>Length3Squared</th>\n",
              "      <th>HeightSquared</th>\n",
              "      <th>Parkki</th>\n",
              "      <th>Perch</th>\n",
              "      <th>Pike</th>\n",
              "      <th>Roach</th>\n",
              "      <th>Smelt</th>\n",
              "      <th>Whitefish</th>\n",
              "    </tr>\n",
              "  </thead>\n",
              "  <tbody>\n",
              "    <tr>\n",
              "      <th>0</th>\n",
              "      <td>242.0</td>\n",
              "      <td>30.0</td>\n",
              "      <td>11.5200</td>\n",
              "      <td>4.0200</td>\n",
              "      <td>16.160400</td>\n",
              "      <td>900.00</td>\n",
              "      <td>132.710400</td>\n",
              "      <td>0</td>\n",
              "      <td>0</td>\n",
              "      <td>0</td>\n",
              "      <td>0</td>\n",
              "      <td>0</td>\n",
              "      <td>0</td>\n",
              "    </tr>\n",
              "    <tr>\n",
              "      <th>1</th>\n",
              "      <td>290.0</td>\n",
              "      <td>31.2</td>\n",
              "      <td>12.4800</td>\n",
              "      <td>4.3056</td>\n",
              "      <td>18.538191</td>\n",
              "      <td>973.44</td>\n",
              "      <td>155.750400</td>\n",
              "      <td>0</td>\n",
              "      <td>0</td>\n",
              "      <td>0</td>\n",
              "      <td>0</td>\n",
              "      <td>0</td>\n",
              "      <td>0</td>\n",
              "    </tr>\n",
              "    <tr>\n",
              "      <th>2</th>\n",
              "      <td>340.0</td>\n",
              "      <td>31.1</td>\n",
              "      <td>12.3778</td>\n",
              "      <td>4.6961</td>\n",
              "      <td>22.053355</td>\n",
              "      <td>967.21</td>\n",
              "      <td>153.209933</td>\n",
              "      <td>0</td>\n",
              "      <td>0</td>\n",
              "      <td>0</td>\n",
              "      <td>0</td>\n",
              "      <td>0</td>\n",
              "      <td>0</td>\n",
              "    </tr>\n",
              "    <tr>\n",
              "      <th>3</th>\n",
              "      <td>363.0</td>\n",
              "      <td>33.5</td>\n",
              "      <td>12.7300</td>\n",
              "      <td>4.4555</td>\n",
              "      <td>19.851480</td>\n",
              "      <td>1122.25</td>\n",
              "      <td>162.052900</td>\n",
              "      <td>0</td>\n",
              "      <td>0</td>\n",
              "      <td>0</td>\n",
              "      <td>0</td>\n",
              "      <td>0</td>\n",
              "      <td>0</td>\n",
              "    </tr>\n",
              "    <tr>\n",
              "      <th>4</th>\n",
              "      <td>430.0</td>\n",
              "      <td>34.0</td>\n",
              "      <td>12.4440</td>\n",
              "      <td>5.1340</td>\n",
              "      <td>26.357956</td>\n",
              "      <td>1156.00</td>\n",
              "      <td>154.853136</td>\n",
              "      <td>0</td>\n",
              "      <td>0</td>\n",
              "      <td>0</td>\n",
              "      <td>0</td>\n",
              "      <td>0</td>\n",
              "      <td>0</td>\n",
              "    </tr>\n",
              "  </tbody>\n",
              "</table>\n",
              "</div>"
            ],
            "text/plain": [
              "   Weight  Length3   Height   Width  ...  Pike  Roach  Smelt  Whitefish\n",
              "0   242.0     30.0  11.5200  4.0200  ...     0      0      0          0\n",
              "1   290.0     31.2  12.4800  4.3056  ...     0      0      0          0\n",
              "2   340.0     31.1  12.3778  4.6961  ...     0      0      0          0\n",
              "3   363.0     33.5  12.7300  4.4555  ...     0      0      0          0\n",
              "4   430.0     34.0  12.4440  5.1340  ...     0      0      0          0\n",
              "\n",
              "[5 rows x 13 columns]"
            ]
          },
          "metadata": {},
          "execution_count": 31
        }
      ]
    },
    {
      "cell_type": "code",
      "metadata": {
        "id": "td_jw-PmCzEV"
      },
      "source": [
        "X=data.drop(['Weight'],axis=1).values.reshape(-1,12)\n",
        "Y=data['Weight'].values.reshape(159)"
      ],
      "execution_count": null,
      "outputs": []
    },
    {
      "cell_type": "code",
      "metadata": {
        "colab": {
          "base_uri": "https://localhost:8080/",
          "height": 709
        },
        "id": "Lnjw8HIaC5hf",
        "outputId": "9fd8d434-becd-4133-b567-bc8c74963a9e"
      },
      "source": [
        "X = sm.add_constant(X)\n",
        "est = sm.OLS(Y, X).fit()\n",
        "est.summary()"
      ],
      "execution_count": null,
      "outputs": [
        {
          "output_type": "execute_result",
          "data": {
            "text/html": [
              "<table class=\"simpletable\">\n",
              "<caption>OLS Regression Results</caption>\n",
              "<tr>\n",
              "  <th>Dep. Variable:</th>            <td>y</td>        <th>  R-squared:         </th> <td>   0.983</td> \n",
              "</tr>\n",
              "<tr>\n",
              "  <th>Model:</th>                   <td>OLS</td>       <th>  Adj. R-squared:    </th> <td>   0.982</td> \n",
              "</tr>\n",
              "<tr>\n",
              "  <th>Method:</th>             <td>Least Squares</td>  <th>  F-statistic:       </th> <td>   724.4</td> \n",
              "</tr>\n",
              "<tr>\n",
              "  <th>Date:</th>             <td>Mon, 30 Aug 2021</td> <th>  Prob (F-statistic):</th> <td>1.58e-123</td>\n",
              "</tr>\n",
              "<tr>\n",
              "  <th>Time:</th>                 <td>17:11:45</td>     <th>  Log-Likelihood:    </th> <td> -833.89</td> \n",
              "</tr>\n",
              "<tr>\n",
              "  <th>No. Observations:</th>      <td>   159</td>      <th>  AIC:               </th> <td>   1694.</td> \n",
              "</tr>\n",
              "<tr>\n",
              "  <th>Df Residuals:</th>          <td>   146</td>      <th>  BIC:               </th> <td>   1734.</td> \n",
              "</tr>\n",
              "<tr>\n",
              "  <th>Df Model:</th>              <td>    12</td>      <th>                     </th>     <td> </td>    \n",
              "</tr>\n",
              "<tr>\n",
              "  <th>Covariance Type:</th>      <td>nonrobust</td>    <th>                     </th>     <td> </td>    \n",
              "</tr>\n",
              "</table>\n",
              "<table class=\"simpletable\">\n",
              "<tr>\n",
              "    <td></td>       <th>coef</th>     <th>std err</th>      <th>t</th>      <th>P>|t|</th>  <th>[0.025</th>    <th>0.975]</th>  \n",
              "</tr>\n",
              "<tr>\n",
              "  <th>const</th> <td>  -43.8244</td> <td>   65.335</td> <td>   -0.671</td> <td> 0.503</td> <td> -172.949</td> <td>   85.300</td>\n",
              "</tr>\n",
              "<tr>\n",
              "  <th>x1</th>    <td>  -12.9841</td> <td>    5.897</td> <td>   -2.202</td> <td> 0.029</td> <td>  -24.639</td> <td>   -1.329</td>\n",
              "</tr>\n",
              "<tr>\n",
              "  <th>x2</th>    <td>   29.3134</td> <td>   18.036</td> <td>    1.625</td> <td> 0.106</td> <td>   -6.333</td> <td>   64.960</td>\n",
              "</tr>\n",
              "<tr>\n",
              "  <th>x3</th>    <td>  -81.1630</td> <td>   37.733</td> <td>   -2.151</td> <td> 0.033</td> <td> -155.736</td> <td>   -6.590</td>\n",
              "</tr>\n",
              "<tr>\n",
              "  <th>x4</th>    <td>   11.7162</td> <td>    2.860</td> <td>    4.097</td> <td> 0.000</td> <td>    6.064</td> <td>   17.368</td>\n",
              "</tr>\n",
              "<tr>\n",
              "  <th>x5</th>    <td>    0.4989</td> <td>    0.050</td> <td>   10.064</td> <td> 0.000</td> <td>    0.401</td> <td>    0.597</td>\n",
              "</tr>\n",
              "<tr>\n",
              "  <th>x6</th>    <td>    0.2636</td> <td>    0.487</td> <td>    0.541</td> <td> 0.589</td> <td>   -0.699</td> <td>    1.227</td>\n",
              "</tr>\n",
              "<tr>\n",
              "  <th>x7</th>    <td>   79.2615</td> <td>   25.451</td> <td>    3.114</td> <td> 0.002</td> <td>   28.962</td> <td>  129.561</td>\n",
              "</tr>\n",
              "<tr>\n",
              "  <th>x8</th>    <td>  165.4377</td> <td>   46.600</td> <td>    3.550</td> <td> 0.001</td> <td>   73.341</td> <td>  257.535</td>\n",
              "</tr>\n",
              "<tr>\n",
              "  <th>x9</th>    <td>   15.3730</td> <td>   80.885</td> <td>    0.190</td> <td> 0.850</td> <td> -144.484</td> <td>  175.230</td>\n",
              "</tr>\n",
              "<tr>\n",
              "  <th>x10</th>   <td>  127.6843</td> <td>   43.106</td> <td>    2.962</td> <td> 0.004</td> <td>   42.492</td> <td>  212.877</td>\n",
              "</tr>\n",
              "<tr>\n",
              "  <th>x11</th>   <td>  159.2929</td> <td>   62.138</td> <td>    2.564</td> <td> 0.011</td> <td>   36.486</td> <td>  282.099</td>\n",
              "</tr>\n",
              "<tr>\n",
              "  <th>x12</th>   <td>  175.9687</td> <td>   42.435</td> <td>    4.147</td> <td> 0.000</td> <td>   92.102</td> <td>  259.836</td>\n",
              "</tr>\n",
              "</table>\n",
              "<table class=\"simpletable\">\n",
              "<tr>\n",
              "  <th>Omnibus:</th>       <td>17.276</td> <th>  Durbin-Watson:     </th> <td>   1.835</td>\n",
              "</tr>\n",
              "<tr>\n",
              "  <th>Prob(Omnibus):</th> <td> 0.000</td> <th>  Jarque-Bera (JB):  </th> <td>  64.164</td>\n",
              "</tr>\n",
              "<tr>\n",
              "  <th>Skew:</th>          <td> 0.126</td> <th>  Prob(JB):          </th> <td>1.17e-14</td>\n",
              "</tr>\n",
              "<tr>\n",
              "  <th>Kurtosis:</th>      <td> 6.102</td> <th>  Cond. No.          </th> <td>4.69e+04</td>\n",
              "</tr>\n",
              "</table><br/><br/>Warnings:<br/>[1] Standard Errors assume that the covariance matrix of the errors is correctly specified.<br/>[2] The condition number is large, 4.69e+04. This might indicate that there are<br/>strong multicollinearity or other numerical problems."
            ],
            "text/plain": [
              "<class 'statsmodels.iolib.summary.Summary'>\n",
              "\"\"\"\n",
              "                            OLS Regression Results                            \n",
              "==============================================================================\n",
              "Dep. Variable:                      y   R-squared:                       0.983\n",
              "Model:                            OLS   Adj. R-squared:                  0.982\n",
              "Method:                 Least Squares   F-statistic:                     724.4\n",
              "Date:                Mon, 30 Aug 2021   Prob (F-statistic):          1.58e-123\n",
              "Time:                        17:11:45   Log-Likelihood:                -833.89\n",
              "No. Observations:                 159   AIC:                             1694.\n",
              "Df Residuals:                     146   BIC:                             1734.\n",
              "Df Model:                          12                                         \n",
              "Covariance Type:            nonrobust                                         \n",
              "==============================================================================\n",
              "                 coef    std err          t      P>|t|      [0.025      0.975]\n",
              "------------------------------------------------------------------------------\n",
              "const        -43.8244     65.335     -0.671      0.503    -172.949      85.300\n",
              "x1           -12.9841      5.897     -2.202      0.029     -24.639      -1.329\n",
              "x2            29.3134     18.036      1.625      0.106      -6.333      64.960\n",
              "x3           -81.1630     37.733     -2.151      0.033    -155.736      -6.590\n",
              "x4            11.7162      2.860      4.097      0.000       6.064      17.368\n",
              "x5             0.4989      0.050     10.064      0.000       0.401       0.597\n",
              "x6             0.2636      0.487      0.541      0.589      -0.699       1.227\n",
              "x7            79.2615     25.451      3.114      0.002      28.962     129.561\n",
              "x8           165.4377     46.600      3.550      0.001      73.341     257.535\n",
              "x9            15.3730     80.885      0.190      0.850    -144.484     175.230\n",
              "x10          127.6843     43.106      2.962      0.004      42.492     212.877\n",
              "x11          159.2929     62.138      2.564      0.011      36.486     282.099\n",
              "x12          175.9687     42.435      4.147      0.000      92.102     259.836\n",
              "==============================================================================\n",
              "Omnibus:                       17.276   Durbin-Watson:                   1.835\n",
              "Prob(Omnibus):                  0.000   Jarque-Bera (JB):               64.164\n",
              "Skew:                           0.126   Prob(JB):                     1.17e-14\n",
              "Kurtosis:                       6.102   Cond. No.                     4.69e+04\n",
              "==============================================================================\n",
              "\n",
              "Warnings:\n",
              "[1] Standard Errors assume that the covariance matrix of the errors is correctly specified.\n",
              "[2] The condition number is large, 4.69e+04. This might indicate that there are\n",
              "strong multicollinearity or other numerical problems.\n",
              "\"\"\""
            ]
          },
          "metadata": {},
          "execution_count": 33
        }
      ]
    },
    {
      "cell_type": "code",
      "metadata": {
        "colab": {
          "base_uri": "https://localhost:8080/"
        },
        "id": "1pO2IuE1C_cW",
        "outputId": "19de1271-94b5-4429-8500-c2741ccafde2"
      },
      "source": [
        "x_train, x_test, y_train, y_test = train_test_split(X, Y, test_size=0.2, random_state=1)\n",
        "reg = linear_model.LinearRegression() \n",
        "\n",
        "reg.fit(x_train, y_train) \n",
        "print('Coefficient : ', reg.coef_,' and Y-Intercept : ',reg.intercept_) "
      ],
      "execution_count": null,
      "outputs": [
        {
          "output_type": "stream",
          "text": [
            "Coefficient :  [ 0.00000000e+00 -1.03798531e+01  3.44684540e+01 -1.01012019e+02\n",
            "  1.35837151e+01  4.59136195e-01  2.45838810e-02  8.09470151e+01\n",
            "  1.74507353e+02  2.66259974e+01  1.42439021e+02  1.69776115e+02\n",
            "  1.72324654e+02]  and Y-Intercept :  -67.0551248789177\n"
          ],
          "name": "stdout"
        }
      ]
    },
    {
      "cell_type": "code",
      "metadata": {
        "colab": {
          "base_uri": "https://localhost:8080/"
        },
        "id": "I5kHWHC3DH6q",
        "outputId": "071e3fa5-8a0b-440c-d0ec-d0d542763cd4"
      },
      "source": [
        "y_predicted=reg.predict(x_test)\n",
        "print(\"Mean Squared error is \", mean_squared_error(y_test,y_predicted))\n",
        "print(\"R2 score is \", r2_score(y_test, y_predicted))"
      ],
      "execution_count": null,
      "outputs": [
        {
          "output_type": "stream",
          "text": [
            "Mean Squared error is  2691.4374389554528\n",
            "R2 score is  0.9800770089334737\n"
          ],
          "name": "stdout"
        }
      ]
    }
  ]
}